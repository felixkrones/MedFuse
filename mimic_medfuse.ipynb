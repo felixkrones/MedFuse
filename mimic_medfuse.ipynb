{
 "cells": [
  {
   "cell_type": "markdown",
   "id": "2cb92a66",
   "metadata": {},
   "source": [
    "# Run for our experiments"
   ]
  },
  {
   "cell_type": "code",
   "execution_count": 1,
   "id": "8e6cd6f1",
   "metadata": {},
   "outputs": [],
   "source": [
    "import pandas as pd"
   ]
  },
  {
   "cell_type": "markdown",
   "id": "b351d316",
   "metadata": {},
   "source": [
    "## Prep data"
   ]
  },
  {
   "cell_type": "code",
   "execution_count": null,
   "id": "1be77452",
   "metadata": {},
   "outputs": [],
   "source": [
    "# cd mimic4extract "
   ]
  },
  {
   "cell_type": "code",
   "execution_count": null,
   "id": "186e822f",
   "metadata": {},
   "outputs": [],
   "source": [
    "# Generate one directory per `SUBJECT_ID`\n",
    "python -m mimic3benchmark.scripts.extract_subjects_iv /data/wolf6245/src/mm_study/data/a_raw/MIMIC/MIMIC-IV data/root/ --filter_subject_id_file \"/data/wolf6245/src/mm_study/data/f_modelling/03_model_input/data-2024-12-19-01-23-23/(3) Chronic ischaemic heart disease/y_fusion_label_not_gt.parquet\""
   ]
  },
  {
   "cell_type": "code",
   "execution_count": null,
   "id": "bf15c992",
   "metadata": {},
   "outputs": [],
   "source": [
    "# Fix some issues\n",
    "python -m mimic3benchmark.scripts.validate_events data/root/"
   ]
  },
  {
   "cell_type": "code",
   "execution_count": null,
   "id": "19164478",
   "metadata": {},
   "outputs": [],
   "source": [
    "# Breaks up per-subject data into separate episodes\n",
    "python -m mimic3benchmark.scripts.extract_episodes_from_subjects data/root/"
   ]
  },
  {
   "cell_type": "code",
   "execution_count": null,
   "id": "13fd2fee",
   "metadata": {},
   "outputs": [],
   "source": [
    "# Split\n",
    "python -m mimic3benchmark.scripts.split_train_and_test data/root/"
   ]
  },
  {
   "cell_type": "code",
   "execution_count": null,
   "id": "8c4a0003",
   "metadata": {},
   "outputs": [],
   "source": [
    "# Generate task-specific datasets\n",
    "python -m mimic3benchmark.scripts.create_phenotyping data/root/ data/phenotyping/"
   ]
  },
  {
   "cell_type": "code",
   "execution_count": null,
   "id": "eab26f68",
   "metadata": {},
   "outputs": [],
   "source": [
    "# Split again for validation\n",
    "python -m mimic3models.split_train_val data/phenotyping"
   ]
  },
  {
   "cell_type": "markdown",
   "id": "351a0cac",
   "metadata": {},
   "source": [
    "## Update labels"
   ]
  },
  {
   "cell_type": "code",
   "execution_count": 8,
   "id": "807fda92",
   "metadata": {},
   "outputs": [],
   "source": [
    "import os\n",
    "import pandas as pd"
   ]
  },
  {
   "cell_type": "code",
   "execution_count": null,
   "id": "d59e7c35",
   "metadata": {},
   "outputs": [
    {
     "name": "stdout",
     "output_type": "stream",
     "text": [
      "df_label shape before merge: (5280, 12), after merge: (6148, 13)\n",
      "train_folder_listfile shape before dropna: (5266, 13), after dropna: (3704, 13)\n",
      "test_folder_listfile shape before dropna: (1267, 13), after dropna: (842, 13)\n",
      "train_listfile shape before dropna: (4780, 13), after dropna: (3394, 13)\n",
      "test_listfile shape before dropna: (1267, 13), after dropna: (842, 13)\n",
      "val_listfile shape before dropna: (486, 13), after dropna: (310, 13)\n"
     ]
    }
   ],
   "source": [
    "# Load all dataframes\n",
    "train_folder_listfile_path = \"/data/wolf6245/src/MedFuse/mimic4extract/data/phenotyping/train/listfile.csv\"\n",
    "test_folder_listfile_path = \"/data/wolf6245/src/MedFuse/mimic4extract/data/phenotyping/test/listfile.csv\"\n",
    "train_listfile_path = \"/data/wolf6245/src/MedFuse/mimic4extract/data/phenotyping/train_listfile.csv\"\n",
    "test_listfile_path = \"/data/wolf6245/src/MedFuse/mimic4extract/data/phenotyping/test_listfile.csv\"\n",
    "val_listfile_path = \"/data/wolf6245/src/MedFuse/mimic4extract/data/phenotyping/val_listfile.csv\"\n",
    "y_file_path = \"/data/wolf6245/src/mm_study/data/f_modelling/03_model_input/data-2024-12-19-01-23-23/(3) Chronic ischaemic heart disease/y_fusion_label_not_gt.parquet\"\n",
    "icu_stay_df = pd.read_csv(\"/data/wolf6245/src/mm_study/data/a_raw/MIMIC/MIMIC-IV/icu/icustays.csv.gz\")\n",
    "key_columns = [\"stay\", \"period_length\", \"stay_id\"]\n",
    "train_folder_listfile = pd.read_csv(train_folder_listfile_path, usecols=key_columns)\n",
    "test_folder_listfile = pd.read_csv(test_folder_listfile_path, usecols=key_columns)\n",
    "train_listfile = pd.read_csv(train_listfile_path, usecols=key_columns)\n",
    "test_listfile = pd.read_csv(test_listfile_path, usecols=key_columns)\n",
    "val_listfile = pd.read_csv(val_listfile_path, usecols=key_columns)\n",
    "df_label = pd.read_parquet(y_file_path)\n",
    "assert list(train_folder_listfile.columns) == list(test_folder_listfile.columns)\n",
    "assert list(train_folder_listfile.columns) == list(train_listfile.columns)\n",
    "assert list(train_folder_listfile.columns) == list(test_listfile.columns)\n",
    "assert list(train_folder_listfile.columns) == list(val_listfile.columns)\n",
    "\n",
    "# Merge stay_ids to df_label from icu_stay_df\n",
    "df_label_shape_old = df_label.shape\n",
    "df_label = df_label.merge(icu_stay_df[[\"subject_id\", \"hadm_id\", \"stay_id\"]], on=[\"subject_id\", \"hadm_id\"], how=\"left\")\n",
    "df_label_columns_to_keep = [c for c in df_label.columns if c not in [\"hadm_id\", \"subject_id\"]]\n",
    "print(f\"df_label shape before merge: {df_label_shape_old}, after merge: {df_label.shape}\")\n",
    "\n",
    "# Merge labels to all dataframes\n",
    "train_folder_listfile = train_folder_listfile.merge(df_label[df_label_columns_to_keep], on=[\"stay_id\"], how=\"left\")\n",
    "test_folder_listfile = test_folder_listfile.merge(df_label[df_label_columns_to_keep], on=[\"stay_id\"], how=\"left\")\n",
    "train_listfile = train_listfile.merge(df_label[df_label_columns_to_keep], on=[\"stay_id\"], how=\"left\")\n",
    "test_listfile = test_listfile.merge(df_label[df_label_columns_to_keep], on=[\"stay_id\"], how=\"left\")\n",
    "val_listfile = val_listfile.merge(df_label[df_label_columns_to_keep], on=[\"stay_id\"], how=\"left\")\n",
    "\n",
    "# Drop nans\n",
    "train_folder_listfile_shape_old = train_folder_listfile.shape\n",
    "train_folder_listfile = train_folder_listfile.dropna()\n",
    "print(f\"train_folder_listfile shape before dropna: {train_folder_listfile_shape_old}, after dropna: {train_folder_listfile.shape}\")\n",
    "test_folder_listfile_shape_old = test_folder_listfile.shape\n",
    "test_folder_listfile = test_folder_listfile.dropna()\n",
    "print(f\"test_folder_listfile shape before dropna: {test_folder_listfile_shape_old}, after dropna: {test_folder_listfile.shape}\")\n",
    "train_listfile_shape_old = train_listfile.shape\n",
    "train_listfile = train_listfile.dropna()\n",
    "print(f\"train_listfile shape before dropna: {train_listfile_shape_old}, after dropna: {train_listfile.shape}\")\n",
    "test_listfile_shape_old = test_listfile.shape\n",
    "test_listfile = test_listfile.dropna()\n",
    "print(f\"test_listfile shape before dropna: {test_listfile_shape_old}, after dropna: {test_listfile.shape}\")\n",
    "val_listfile_shape_old = val_listfile.shape\n",
    "val_listfile = val_listfile.dropna()\n",
    "print(f\"val_listfile shape before dropna: {val_listfile_shape_old}, after dropna: {val_listfile.shape}\")\n",
    "\n",
    "# Convert label columns to int\n",
    "for col in df_label_columns_to_keep:\n",
    "    if col not in [\"stay_id\"]:\n",
    "        train_folder_listfile[col] = train_folder_listfile[col].astype(int)\n",
    "        test_folder_listfile[col] = test_folder_listfile[col].astype(int)\n",
    "        train_listfile[col] = train_listfile[col].astype(int)\n",
    "        test_listfile[col] = test_listfile[col].astype(int)\n",
    "        val_listfile[col] = val_listfile[col].astype(int)\n",
    "\n",
    "# Save dataframes\n",
    "train_folder_listfile.to_csv(train_folder_listfile_path, index=False)\n",
    "test_folder_listfile.to_csv(test_folder_listfile_path, index=False)\n",
    "train_listfile.to_csv(train_listfile_path, index=False)\n",
    "test_listfile.to_csv(test_listfile_path, index=False)\n",
    "val_listfile.to_csv(val_listfile_path, index=False)"
   ]
  },
  {
   "cell_type": "markdown",
   "id": "3f05c3be",
   "metadata": {},
   "source": [
    "## Prep images"
   ]
  },
  {
   "cell_type": "code",
   "execution_count": null,
   "id": "3c8eeebf",
   "metadata": {},
   "outputs": [],
   "source": [
    "# Resize\n",
    "## specify the ehr_data_dir and cxr_data_dir directories paths before running the scripts.\n",
    "python resize.py"
   ]
  },
  {
   "cell_type": "code",
   "execution_count": null,
   "id": "ac5ebd57",
   "metadata": {},
   "outputs": [],
   "source": [
    "# Create image splits\n",
    "python create_split.py"
   ]
  },
  {
   "cell_type": "markdown",
   "id": "b4236cba",
   "metadata": {},
   "source": [
    "## Train"
   ]
  },
  {
   "cell_type": "code",
   "execution_count": null,
   "id": "5b67c52a",
   "metadata": {},
   "outputs": [],
   "source": [
    "# pre-train the imaging model with 14 radiology labels.\n",
    "sh ./scripts/radiology/uni_cxr.sh\n",
    "# pre-train LSTM model on extracted time-series EHR data for phenotype task.\n",
    "sh ./scripts/phenotyping/train/uni_all.sh"
   ]
  },
  {
   "cell_type": "code",
   "execution_count": null,
   "id": "4e5fe9b7",
   "metadata": {},
   "outputs": [],
   "source": [
    "# med fuse for phenotype task\n",
    "sh ./scripts/phenotyping/train/medFuse.sh"
   ]
  },
  {
   "cell_type": "markdown",
   "id": "f88d815b",
   "metadata": {},
   "source": [
    "## Evaluate"
   ]
  },
  {
   "cell_type": "code",
   "execution_count": null,
   "id": "ca4721eb",
   "metadata": {},
   "outputs": [],
   "source": [
    "# med fuse for phenotype task\n",
    "sh ./scripts/phenotyping/eval/medFuse.sh"
   ]
  }
 ],
 "metadata": {
  "kernelspec": {
   "display_name": "ph24",
   "language": "python",
   "name": "python3"
  },
  "language_info": {
   "codemirror_mode": {
    "name": "ipython",
    "version": 3
   },
   "file_extension": ".py",
   "mimetype": "text/x-python",
   "name": "python",
   "nbconvert_exporter": "python",
   "pygments_lexer": "ipython3",
   "version": "3.11.9"
  }
 },
 "nbformat": 4,
 "nbformat_minor": 5
}
